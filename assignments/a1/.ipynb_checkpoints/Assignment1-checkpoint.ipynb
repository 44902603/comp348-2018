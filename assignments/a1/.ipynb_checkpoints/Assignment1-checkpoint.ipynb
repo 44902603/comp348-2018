{
 "cells": [
  {
   "cell_type": "markdown",
   "metadata": {},
   "source": [
    "# Assignment 1 - Python and NLTK for Text Processing\n",
    "*Submission deadline: Friday 16 March 2018, 11:00pm*\n",
    "\n",
    "## Objectives of this assignment\n",
    "\n",
    "In this assignment you will practice with the use of Python packages for text processing as a first step towards implementing real-world document processing systems.\n",
    "\n",
    "The deadline of this assignment is before census date, so it can serve as a diagnostic test so that you can determine if you want to remain in the unit or withdraw without penalty.\n",
    "\n",
    "Below are the questions of this assignment. They are in the format of a Jupyter notebook so that you can use this notebook to work on your solution. Write the final solution in a standalone Python file as described in the \"submission\" section by the end of these assignment specifications.\n"
   ]
  },
  {
   "cell_type": "code",
   "execution_count": 18,
   "metadata": {},
   "outputs": [
    {
     "name": "stdout",
     "output_type": "stream",
     "text": [
      "[nltk_data] Error loading punkt: <urlopen error [Errno 8] nodename nor\n",
      "[nltk_data]     servname provided, or not known>\n",
      "[nltk_data] Error loading gutenberg: <urlopen error [Errno 8] nodename\n",
      "[nltk_data]     nor servname provided, or not known>\n"
     ]
    },
    {
     "data": {
      "text/plain": [
       "False"
      ]
     },
     "execution_count": 18,
     "metadata": {},
     "output_type": "execute_result"
    }
   ],
   "source": [
    "import nltk\n",
    "nltk.download('punkt')\n",
    "nltk.download('gutenberg')"
   ]
  },
  {
   "cell_type": "markdown",
   "metadata": {},
   "source": [
    "### Word counts (1 mark)\n",
    "Implement a function that returns a vector of word counts in a given text, given a vector of words. For your solution you may use third-party modules if you wish. As part of this exercise you will need to split the text into words. When you do it, please note that NLTK's tokeniser works best when it takes sentences as their input. Thus, to tokenise a text that has multiple sentences it is best first to split the text into sentences, and then tokenise each sentence. Look at the lecture notes and exercises of the week 1 workshop for examples of how to do this."
   ]
  },
  {
   "cell_type": "code",
   "execution_count": 51,
   "metadata": {},
   "outputs": [
    {
     "data": {
      "text/plain": [
       "[4842, 3001]"
      ]
     },
     "execution_count": 51,
     "metadata": {},
     "output_type": "execute_result"
    }
   ],
   "source": [
    "import nltk\n",
    "import collections\n",
    "words = ['the','a']\n",
    "result=[]\n",
    "text = nltk.corpus.gutenberg.raw('austen-emma.txt')\n",
    "ws = nltk.word_tokenize(text)\n",
    "count = collections.Counter(ws)\n",
    "for word in words:\n",
    "    result.append(count[word])\n",
    "    \n",
    "result"
   ]
  },
  {
   "cell_type": "markdown",
   "metadata": {},
   "source": [
    "###  PoS counts (1 mark)\n",
    "Implement a function that returns a vector of counts of parts of speech, given a vector of parts of speech. To determine the parts of speech, use NLTK's `pos_tag_sents` function using the `'universal'` tag set. See the lecture notes and practical exercises from week 1 for details of how to use `pos_tag_sents`."
   ]
  },
  {
   "cell_type": "code",
   "execution_count": 110,
   "metadata": {},
   "outputs": [
    {
     "data": {
      "text/plain": [
       "[14352, 32029]"
      ]
     },
     "execution_count": 110,
     "metadata": {},
     "output_type": "execute_result"
    }
   ],
   "source": [
    "import collections\n",
    "pos_list = ['DET', 'NOUN']\n",
    "text = nltk.corpus.gutenberg.raw(\"austen-emma.txt\")\n",
    "sents = [nltk.word_tokenize(sent) for sent in nltk.sent_tokenize(text)]\n",
    "tag_sents = nltk.pos_tag_sents(sents, tagset='universal')\n",
    "pos = []\n",
    "for s in tag_sents:\n",
    "    for w in s:\n",
    "        pos.append(w[1])\n",
    "counter = collections.Counter(pos)\n",
    "result = []\n",
    "for pos in pos_list:\n",
    "    result.append(counter[pos])\n",
    "result"
   ]
  },
  {
   "cell_type": "code",
   "execution_count": 108,
   "metadata": {},
   "outputs": [
    {
     "data": {
      "text/plain": [
       "32029"
      ]
     },
     "execution_count": 108,
     "metadata": {},
     "output_type": "execute_result"
    }
   ],
   "source": [
    "\n",
    "import collections\n",
    "emma_sents = [nltk.word_tokenize(s) for s in nltk.sent_tokenize(nltk.corpus.gutenberg.raw('austen-emma.txt'))]\n",
    "emma_tagged_sents = nltk.pos_tag_sents(emma_sents, tagset='universal')\n",
    "emma_pos = []\n",
    "for s in emma_tagged_sents:\n",
    "    for w in s:\n",
    "        emma_pos.append(w[1])\n",
    "counter = collections.Counter(emma_pos)\n",
    "counter['NOUN']"
   ]
  },
  {
   "cell_type": "code",
   "execution_count": 83,
   "metadata": {},
   "outputs": [
    {
     "data": {
      "text/plain": [
       "32070"
      ]
     },
     "execution_count": 83,
     "metadata": {},
     "output_type": "execute_result"
    }
   ],
   "source": [
    "count=0\n",
    "for (w,t) in tagged:\n",
    "    if (t == 'NOUN'):\n",
    "        count=count+1\n",
    "count"
   ]
  },
  {
   "cell_type": "markdown",
   "metadata": {},
   "source": [
    "### Readability (1 mark)\n",
    "A popular formula to measure the readability of a document is the [Flesh reading-ease test (FRES)](https://en.wikipedia.org/wiki/Flesch%E2%80%93Kincaid_readability_tests), which gives higher scores to texts that are easier to read. According to Wikipedia, the formula is: \n",
    "\n",
    "![formula](https://wikimedia.org/api/rest_v1/media/math/render/svg/bd4916e193d2f96fa3b74ee258aaa6fe242e110e)\n",
    "\n",
    "Write a function that returns the FRES of a text. To help you in this exercise, below is a simple function that you can use to approximate the number of syllables in a word. This function is based on the calculation of the word length used for the [Porter stemmer](https://tartarus.org/martin/PorterStemmer/def.txt):"
   ]
  },
  {
   "cell_type": "code",
   "execution_count": 112,
   "metadata": {},
   "outputs": [],
   "source": [
    "import re\n",
    "VC = re.compile('[aeiou]+[^aeiou]+', re.I)\n",
    "def count_syllables(word):\n",
    "    return len(VC.findall(word))"
   ]
  },
  {
   "cell_type": "code",
   "execution_count": 127,
   "metadata": {},
   "outputs": [
    {
     "data": {
      "text/plain": [
       "191675"
      ]
     },
     "execution_count": 127,
     "metadata": {},
     "output_type": "execute_result"
    }
   ],
   "source": [
    "fres = 0\n",
    "text = nltk.corpus.gutenberg.raw('austen-emma.txt')\n",
    "sents = [nltk.word_tokenize(s) for s in nltk.sent_tokenize(text)]\n",
    "len(sents)\n",
    "#total_sents = len(nltk.sent_tokenize(text))\n",
    "#fres = 206.835 - 1.015(total_words/total_sents) - 84.6(total_syllables/total_words)\n",
    "words = []\n",
    "for s in sents:\n",
    "    for word in s:\n",
    "        words.append(words)\n",
    "        \n",
    "len(words)"
   ]
  },
  {
   "cell_type": "code",
   "execution_count": 135,
   "metadata": {},
   "outputs": [
    {
     "name": "stdout",
     "output_type": "stream",
     "text": [
      "7493\n",
      "191675\n",
      "184577\n"
     ]
    }
   ],
   "source": [
    "total_sents = len(nltk.sent_tokenize(text))\n",
    "print (total_sents)\n",
    "\n",
    "\n",
    "words =[]\n",
    "for s in nltk.sent_tokenize(text):\n",
    "    for w in nltk.word_tokenize(s):\n",
    "        words.append(w)\n",
    "        \n",
    "total_words = len(words)     \n",
    "print(total_words)\n",
    "\n",
    "total_syllables = 0\n",
    "for word in words:\n",
    "    total_syllables = total_syllables + count_syllables(word)\n",
    "    \n",
    "print (total_syllables)"
   ]
  },
  {
   "cell_type": "code",
   "execution_count": 146,
   "metadata": {},
   "outputs": [
    {
     "data": {
      "text/plain": [
       "99.40360930035288"
      ]
     },
     "execution_count": 146,
     "metadata": {},
     "output_type": "execute_result"
    }
   ],
   "source": [
    "fres = 206.835 - (1.015*(total_words/total_sents)) - (84.6*(total_syllables/total_words))\n",
    "#print (1.015*(total_words/total_sents))\n",
    "#print(total_words/total_sents)\n",
    "fres"
   ]
  },
  {
   "cell_type": "markdown",
   "metadata": {},
   "source": [
    "### Advanced task (2 marks)"
   ]
  },
  {
   "cell_type": "markdown",
   "metadata": {},
   "source": [
    "During the last practical exercises of week 1 you were asked to identify all the cardinal numbers in a list of tokens. In this advanced task, you will need to identify all the **ordinal numbers** such as \"first\", \"22nd\", etc. We will use the Brown corpus, which, as you know, is annotated with the parts of speech. The Brown corpus tags for ordinal numbers begin with 'OD'. The following code counts all the tokens tagged as ordinal numbers in the \"news\" section of NLTK's Brown corpus:"
   ]
  },
  {
   "cell_type": "code",
   "execution_count": 147,
   "metadata": {},
   "outputs": [
    {
     "name": "stdout",
     "output_type": "stream",
     "text": [
      "[nltk_data] Error loading brown: <urlopen error [Errno 8] nodename nor\n",
      "[nltk_data]     servname provided, or not known>\n"
     ]
    }
   ],
   "source": [
    "nltk.download('brown')\n",
    "tagged = nltk.corpus.brown.tagged_words(categories='news')"
   ]
  },
  {
   "cell_type": "code",
   "execution_count": 148,
   "metadata": {},
   "outputs": [
    {
     "data": {
      "text/plain": [
       "Counter({'OD': 309, 'OD-HL': 1, 'OD-TL': 30})"
      ]
     },
     "execution_count": 148,
     "metadata": {},
     "output_type": "execute_result"
    }
   ],
   "source": [
    "import collections\n",
    "c = collections.Counter([t for w, t in tagged if t[:2] == 'OD'])\n",
    "c"
   ]
  },
  {
   "cell_type": "markdown",
   "metadata": {},
   "source": [
    "Implement a function that annotates all ordinal numbers with 'OD' and everything else with the empty string ''. As an example to get you started, you can reuse this code which uses a simple regular expression that tags all tokens that end in 'st' ,'nd', 'rd' and 'th'. The function will correctly label words such as 'first' and 'fifth' but it will incorrectly label words like 'tooth' and 'and':"
   ]
  },
  {
   "cell_type": "code",
   "execution_count": 260,
   "metadata": {},
   "outputs": [],
   "source": [
    "import re\n",
    "#regexp = re.compile('.*?(first|second|third|fourth|fifth|sixth|seventh|eighth|ninth|tenth|eleventh|twelfth|thirteenth|fourteenth|fifteenth|sixteenth|seventeenth|eighteenth|nineteenth|twentieth|thirtieth|fortieth|fiftieth|sixtieth|seventieth|eightieth|ninetieth|hundredth|thousandth|millionth)$')\n",
    "\n",
    "\n",
    "#regexp = re.compile('([\\d]*(st|nd|rd|th)$)|(.*?(first|second|third|fourth|fifth|sixth|seventh|eighth|ninth|tenth|eleventh|twelfth|thirteenth|fourteenth|fifteenth|sixteenth|seventeenth|eighteenth|nineteenth|twentieth|thirtieth|fortieth|fiftieth|sixtieth|seventieth|eightieth|ninetieth|hundredth|thousandth|millionth)$)')\n",
    "regexp = re.compile('([\\d]*(st|nd|rd|th)$)|(.*?(first|second|third|fourth|fifth|sixth|seventh|eighth|ninth|tenth|eleventh|twelfth|thirteenth|fourteenth|fifteenth|sixteenth|seventeenth|eighteenth|nineteenth|twentieth|thirtieth|fortieth|fiftieth|sixtieth|seventieth|eightieth|ninetieth|hundredth|thousandth|millionth)$)')\n",
    "\n",
    "def annotateOD(listoftokens):\n",
    "    result = []\n",
    "    for t in listoftokens:\n",
    "        if regexp.match(t):\n",
    "            result.append((t, 'OD'))\n",
    "        else:\n",
    "            result.append((t, ''))\n",
    "    return result"
   ]
  },
  {
   "cell_type": "code",
   "execution_count": 261,
   "metadata": {},
   "outputs": [
    {
     "data": {
      "text/plain": [
       "[('w1st', ''),\n",
       " ('2nd', 'OD'),\n",
       " ('3rd', 'OD'),\n",
       " ('4th', 'OD'),\n",
       " ('51st', 'OD'),\n",
       " ('hello', ''),\n",
       " ('there', '')]"
      ]
     },
     "execution_count": 261,
     "metadata": {},
     "output_type": "execute_result"
    }
   ],
   "source": [
    "annotateOD(\"w1st 2nd 3rd 4th 51st hello there\".split())"
   ]
  },
  {
   "cell_type": "code",
   "execution_count": 262,
   "metadata": {},
   "outputs": [
    {
     "data": {
      "text/plain": [
       "[('sixth', 'OD'), ('second', 'OD'), ('first', 'OD'), ('twenty-first', 'OD')]"
      ]
     },
     "execution_count": 262,
     "metadata": {},
     "output_type": "execute_result"
    }
   ],
   "source": [
    "annotateOD(\"sixth second first twenty-first \".split())"
   ]
  },
  {
   "cell_type": "markdown",
   "metadata": {},
   "source": [
    "To evaluate the function, the automarking system will compute the F1 score using code like this one:"
   ]
  },
  {
   "cell_type": "code",
   "execution_count": 206,
   "metadata": {},
   "outputs": [],
   "source": [
    "def compute_f1(result, tagged):\n",
    "    assert len(result) == len(tagged) # This is a check that the length of the result and tagged are equal\n",
    "    correct = [result[i][0] for i in range(len(result)) if result[i][1][:2] == 'OD' and tagged[i][1][:2] == 'OD']\n",
    "    numbers_result = [result[i][0] for i in range(len(result)) if result[i][1][:2] == 'OD']\n",
    "    numbers_tagged = [tagged[i][0] for i in range(len(tagged)) if tagged[i][1][:2] == 'OD']\n",
    "    if len(numbers_tagged) > 0:\n",
    "        r = len(correct)/len(numbers_tagged)\n",
    "    else:\n",
    "        r = 0.0\n",
    "    if len(numbers_result) > 0:\n",
    "        p = len(correct)/len(numbers_result)\n",
    "    else:\n",
    "        p = 0.0\n",
    "    return 2*r*p/(r+p)"
   ]
  },
  {
   "cell_type": "code",
   "execution_count": 263,
   "metadata": {},
   "outputs": [
    {
     "data": {
      "text/plain": [
       "0.9205397301349325"
      ]
     },
     "execution_count": 263,
     "metadata": {},
     "output_type": "execute_result"
    }
   ],
   "source": [
    "words = [t for t, w in tagged]\n",
    "result = annotateOD(words)\n",
    "compute_f1(result, tagged)"
   ]
  },
  {
   "cell_type": "markdown",
   "metadata": {},
   "source": [
    "A good approach to identify what you could do to increase the F1 score of your system would be to look at the false positives and the false negatives. Feel free to adapt the code from the practical exercises to identify false positives and false negatives.\n",
    "\n",
    "The advanced task will be marked as follows:\n",
    "\n",
    "* F1 > 0.9: 2 marks\n",
    "* F1 > 0.3: 1 mark\n",
    "* F1 < 0.3: 0 marks\n",
    "\n",
    "**Note that your code should not use any large lists of words, and should not use any part of speech taggers.**"
   ]
  },
  {
   "cell_type": "markdown",
   "metadata": {},
   "source": [
    "## Submission\n",
    "Submit a single Python file with the solutions to all the questions. We provide a template defines all the functions as stubs. Make sure that you do not change the names and argument structure of the functions, since the submission will use an automatic marker that relies on these exact names and argument structure. The template we provide includes a few simple tests using [Python's doctest](https://docs.python.org/3/library/doctest.html) environment. These tests are there to help you, but note that we may use a separate set of tests when we assess your submission. It is your responsibility to run your own tests, in addition to the doctests provided.\n",
    "\n",
    "The submission must be a single Python file. Do not submit several files or a zip file since the automarker would not know what to do with your submission.\n",
    "\n",
    "Note that the deadline is a hard deadline and there will be a penalty of one mark per day of late submission. In addition, since the submission date is a week before the census date of 26 of March 2018, late submissions might not be assessed before census date."
   ]
  },
  {
   "cell_type": "code",
   "execution_count": null,
   "metadata": {
    "collapsed": true
   },
   "outputs": [],
   "source": []
  }
 ],
 "metadata": {
  "anaconda-cloud": {},
  "kernelspec": {
   "display_name": "Python 3",
   "language": "python",
   "name": "python3"
  },
  "language_info": {
   "codemirror_mode": {
    "name": "ipython",
    "version": 3
   },
   "file_extension": ".py",
   "mimetype": "text/x-python",
   "name": "python",
   "nbconvert_exporter": "python",
   "pygments_lexer": "ipython3",
   "version": "3.6.4"
  }
 },
 "nbformat": 4,
 "nbformat_minor": 2
}
